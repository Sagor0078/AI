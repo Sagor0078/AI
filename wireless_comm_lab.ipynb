{
  "nbformat": 4,
  "nbformat_minor": 0,
  "metadata": {
    "colab": {
      "provenance": [],
      "authorship_tag": "ABX9TyPTkVJ8SwRVlok9kuL/dE3G",
      "include_colab_link": true
    },
    "kernelspec": {
      "name": "python3",
      "display_name": "Python 3"
    },
    "language_info": {
      "name": "python"
    }
  },
  "cells": [
    {
      "cell_type": "markdown",
      "metadata": {
        "id": "view-in-github",
        "colab_type": "text"
      },
      "source": [
        "<a href=\"https://colab.research.google.com/github/Sagor0078/AI/blob/main/wireless_comm_lab.ipynb\" target=\"_parent\"><img src=\"https://colab.research.google.com/assets/colab-badge.svg\" alt=\"Open In Colab\"/></a>"
      ]
    },
    {
      "cell_type": "code",
      "execution_count": 2,
      "metadata": {
        "colab": {
          "base_uri": "https://localhost:8080/"
        },
        "id": "dRDvbfm2TjaR",
        "outputId": "0f00c8b3-a2d6-4d79-8998-909a0920c14f"
      },
      "outputs": [
        {
          "output_type": "stream",
          "name": "stdout",
          "text": [
            "Channel Bandwidth: 50 kHz (per duplex channel)\n",
            "Total available channels: 600.0\n",
            "Total control channels: 20.0\n",
            "\n",
            "For N = 4:\n",
            "  Total number of channels available per cell: 150\n",
            "  Control channels per cell: 5\n",
            "  Voice channels per cell: 145\n",
            "\n",
            "For N = 7:\n",
            "  Total number of channels available per cell: 86\n",
            "  Control channels per cell: 3\n",
            "  Voice channels per cell: 83\n",
            "\n",
            "For N = 12:\n",
            "  Total number of channels available per cell: 50\n",
            "  Control channels per cell: 2\n",
            "  Voice channels per cell: 48\n",
            "\n"
          ]
        }
      ],
      "source": [
        "# problem 1 :\n",
        "\n",
        "\n",
        "def calculateChannelParameter(givenBandwidth, singleChannelBandwidth, controlChannelBandwidth, reuseArr):\n",
        "\n",
        "  # Calculate duplex channel bandwidth\n",
        "  duplexChannelBandwidth = singleChannelBandwidth * 2\n",
        "  print(f\"Channel Bandwidth: {duplexChannelBandwidth} kHz (per duplex channel)\")\n",
        "\n",
        "  totalAvailableChannel = givenBandwidth / duplexChannelBandwidth\n",
        "  print(f\"Total available channels: {totalAvailableChannel}\")\n",
        "\n",
        "  totalControlChannel = controlChannelBandwidth / duplexChannelBandwidth\n",
        "  print(f\"Total control channels: {totalControlChannel}\\n\")\n",
        "\n",
        "  for n in reuseArr:\n",
        "      channels_per_cell = round(totalAvailableChannel / n)\n",
        "      control_channels_per_cell = round(totalControlChannel / n)\n",
        "      voice_channels_per_cell = round((totalAvailableChannel - totalControlChannel) / n)\n",
        "\n",
        "      print(f\"For N = {n}:\")\n",
        "      print(f\"  Total number of channels available per cell: {channels_per_cell}\")\n",
        "      print(f\"  Control channels per cell: {control_channels_per_cell}\")\n",
        "      print(f\"  Voice channels per cell: {voice_channels_per_cell}\\n\")\n",
        "\n",
        "\n",
        "\n",
        "\n",
        "givenBandwidth = 30000  # kHz\n",
        "singleChannelBandwidth = 25  # kHz\n",
        "controlChannelBandwidth = 1000  # kHz\n",
        "reuseArr = [ 4, 7, 12]\n",
        "\n",
        "calculateChannelParameter(givenBandwidth, singleChannelBandwidth, controlChannelBandwidth, reuseArr)"
      ]
    },
    {
      "cell_type": "code",
      "source": [
        "import numpy as np\n",
        "\n",
        "def calculate_sir_and_cluster_size(R_SI, io, n_values):\n",
        "    \"\"\"\n",
        "    Calculate the Signal to Interference Ratio (SIR) and determine\n",
        "    the appropriate cluster size (N) for a given set of parameters.\n",
        "    \"\"\"\n",
        "    # Initial reuse pattern N = 7\n",
        "    N_initial = 7\n",
        "    print(f\"Given, signal to interference ratio is {R_SI} dB (minimum required for forward channel)\\n\")\n",
        "    print(\"First, let us consider N = 7 cell reuse pattern\\n\")\n",
        "\n",
        "    for n in n_values:\n",
        "        # Calculate frequency reuse factor Q for the initial N\n",
        "        Q = np.sqrt(3 * N_initial)\n",
        "        print(f\"n = {n}\")\n",
        "        print(f\"Frequency reuse factor, Q = {Q:.2f}\")\n",
        "\n",
        "        # Calculate Signal to Interference Ratio (SIR)\n",
        "        SI = 10 * np.log10((1 / io) * (Q ** n))\n",
        "        print(f\"Signal to interference ratio: {SI:.2f} dB\")\n",
        "\n",
        "        if SI > R_SI:\n",
        "            print(f\"Since this is greater than the minimum required S/I, cluster size N = {N_initial} can be used.\\n\")\n",
        "        else:\n",
        "            # Adjust cluster size to a larger N if SI is less than the required S/I\n",
        "            i, j = 2, 2\n",
        "            N = (i ** 2) + (i * j) + (j ** 2)\n",
        "            Q = np.sqrt(3 * N)\n",
        "            print(\"Since this is less than the minimum required S/I, we need to use a larger N.\")\n",
        "            print(f\"So, the next possible value of N is {N}\")\n",
        "            print(f\"Frequency reuse factor, Q = {Q:.2f}\")\n",
        "\n",
        "            # Recalculate SIR for the new cluster size\n",
        "            SI1 = 10 * np.log10((1 / io) * (Q ** n))\n",
        "            print(f\"Signal to interference ratio: {SI1:.2f} dB\")\n",
        "            print(f\"So, Cluster size for n = {n} is {N}\\n\")\n",
        "\n",
        "# Define parameters\n",
        "R_SI = 15  # Signal to interference ratio in dB\n",
        "io = 6  # Co-channel cells\n",
        "n_values = [4, 3]  # Values of n\n",
        "\n",
        "# Call the function with defined parameters\n",
        "calculate_sir_and_cluster_size(R_SI, io, n_values)\n"
      ],
      "metadata": {
        "colab": {
          "base_uri": "https://localhost:8080/"
        },
        "id": "KNDYWYQLT10o",
        "outputId": "e5f9c338-eabf-4bc0-d763-8bf87c2a75db"
      },
      "execution_count": 3,
      "outputs": [
        {
          "output_type": "stream",
          "name": "stdout",
          "text": [
            "Given, signal to interference ratio is 15 dB (minimum required for forward channel)\n",
            "\n",
            "First, let us consider N = 7 cell reuse pattern\n",
            "\n",
            "n = 4\n",
            "Frequency reuse factor, Q = 4.58\n",
            "Signal to interference ratio: 18.66 dB\n",
            "Since this is greater than the minimum required S/I, cluster size N = 7 can be used.\n",
            "\n",
            "n = 3\n",
            "Frequency reuse factor, Q = 4.58\n",
            "Signal to interference ratio: 12.05 dB\n",
            "Since this is less than the minimum required S/I, we need to use a larger N.\n",
            "So, the next possible value of N is 12\n",
            "Frequency reuse factor, Q = 6.00\n",
            "Signal to interference ratio: 15.56 dB\n",
            "So, Cluster size for n = 3 is 12\n",
            "\n"
          ]
        }
      ]
    },
    {
      "cell_type": "code",
      "source": [
        "# problem 3:\n",
        "\n",
        "\n",
        "import numpy as np\n",
        "\n",
        "def calculate_number_of_users(Gos, Au, A, c):\n",
        "    \"\"\"\n",
        "    Calculate the number of users for given traffic intensities and channels\n",
        "    based on the Erlang B-Table.\n",
        "    \"\"\"\n",
        "    # Display the given parameters\n",
        "    print(\"Blocking probability:\")\n",
        "    print(Gos)\n",
        "    print(\"\\nTraffic intensity per user:\")\n",
        "    print(Au)\n",
        "    print(\"\\nTraffic intensity:\")\n",
        "    print(A)\n",
        "    print(\"\\nChannels:\")\n",
        "    print(c)\n",
        "\n",
        "    # Calculate the number of users\n",
        "    U = np.round(A / Au)\n",
        "\n",
        "    # Display the number of users\n",
        "    print(\"\\nNumber of users:\")\n",
        "    print(U)\n",
        "\n",
        "# Define parameters\n",
        "Gos = 0.5 / 100  # Blocking probability\n",
        "Au = 0.1  # Traffic intensity per user\n",
        "A = np.array([0.005, 1.13, 3.96, 11.1, 80.9])  # Traffic intensity from Erlang B-Table\n",
        "c = np.array([1, 5, 10, 20, 100])  # Number of channels\n",
        "\n",
        "# Call the function with defined parameters\n",
        "calculate_number_of_users(Gos, Au, A, c)\n"
      ],
      "metadata": {
        "colab": {
          "base_uri": "https://localhost:8080/"
        },
        "id": "Tdd5JWDKZson",
        "outputId": "068d2010-e64c-4357-ec79-087c66bc9415"
      },
      "execution_count": 5,
      "outputs": [
        {
          "output_type": "stream",
          "name": "stdout",
          "text": [
            "Blocking probability:\n",
            "0.005\n",
            "\n",
            "Traffic intensity per user:\n",
            "0.1\n",
            "\n",
            "Traffic intensity:\n",
            "[5.00e-03 1.13e+00 3.96e+00 1.11e+01 8.09e+01]\n",
            "\n",
            "Channels:\n",
            "[  1   5  10  20 100]\n",
            "\n",
            "Number of users:\n",
            "[  0.  11.  40. 111. 809.]\n"
          ]
        }
      ]
    },
    {
      "cell_type": "code",
      "source": [
        "# problem 4 :\n",
        "\n",
        "\n",
        "def calculate_market_penetration(blocking_p, lamda, H, system_data):\n",
        "    \"\"\"\n",
        "    Calculate and display the number of users, total subscribers, and market penetration\n",
        "    for multiple systems.\n",
        "    \"\"\"\n",
        "    # Calculate traffic intensity per user (Au)\n",
        "    Au = lamda * H\n",
        "\n",
        "    total_subscribers = 0\n",
        "\n",
        "    for system_name, data in system_data.items():\n",
        "        channels, cells, traffic_intensity = data\n",
        "\n",
        "        print(f'For {system_name}')\n",
        "\n",
        "        # Calculate the number of users\n",
        "        U = traffic_intensity / Au\n",
        "        print(f'Number of users in {system_name}: {U}')\n",
        "\n",
        "        # Calculate total number of subscribers\n",
        "        total_subscribers_system = U * cells\n",
        "        print(f'Total number of subscribers in {system_name}: {total_subscribers_system}')\n",
        "\n",
        "        # Calculate market penetration\n",
        "        market_penetration = (total_subscribers_system / 2000000) * 100\n",
        "        print(f'Percentage market penetration for {system_name}: {market_penetration:.2f}%\\n')\n",
        "\n",
        "        total_subscribers += total_subscribers_system\n",
        "\n",
        "    # Calculate total market penetration for all systems combined\n",
        "    total_market_penetration = (total_subscribers / 2000000) * 100\n",
        "    print(f'Total number of subscribers: {total_subscribers}')\n",
        "    print(f'Market penetration for all three systems: {total_market_penetration:.2f}%')\n",
        "\n",
        "# Define parameters\n",
        "blocking_p = 2 / 100  # Blocking probability\n",
        "lamda = 2  # Arrival rate\n",
        "H = 3 / 60  # Average holding time in hours\n",
        "\n",
        "# System data: (channels, cells, traffic intensity)\n",
        "system_data = {\n",
        "    'System A': (19, 394, 12),\n",
        "    'System B': (57, 98, 45),\n",
        "    'System C': (100, 49, 88)\n",
        "}\n",
        "\n",
        "# Call the function with the defined parameters\n",
        "calculate_market_penetration(blocking_p, lamda, H, system_data)\n"
      ],
      "metadata": {
        "colab": {
          "base_uri": "https://localhost:8080/"
        },
        "id": "TWQm6BOIcp2h",
        "outputId": "40a18fe1-47f7-4cc9-a523-32802d1cc129"
      },
      "execution_count": 6,
      "outputs": [
        {
          "output_type": "stream",
          "name": "stdout",
          "text": [
            "For System A\n",
            "Number of users in System A: 120.0\n",
            "Total number of subscribers in System A: 47280.0\n",
            "Percentage market penetration for System A: 2.36%\n",
            "\n",
            "For System B\n",
            "Number of users in System B: 450.0\n",
            "Total number of subscribers in System B: 44100.0\n",
            "Percentage market penetration for System B: 2.21%\n",
            "\n",
            "For System C\n",
            "Number of users in System C: 880.0\n",
            "Total number of subscribers in System C: 43120.0\n",
            "Percentage market penetration for System C: 2.16%\n",
            "\n",
            "Total number of subscribers: 134500.0\n",
            "Market penetration for all three systems: 6.73%\n"
          ]
        }
      ]
    },
    {
      "cell_type": "code",
      "source": [
        "\n",
        "# probelm 5 :\n",
        "\n",
        "\n",
        "import numpy as np\n",
        "\n",
        "def calculate_fraunhofer_distance_and_path_loss(c, f, D):\n",
        "    \"\"\"\n",
        "    Calculate and display the Fraunhofer distance and Path Loss in dB.\n",
        "    \"\"\"\n",
        "    # Calculate wavelength (lambda)\n",
        "    lemda = c / f\n",
        "\n",
        "    # Calculate Fraunhofer distance (df)\n",
        "    df = 2 * (D ** 2) / lemda\n",
        "\n",
        "    # Calculate Path Loss (PL) in dB\n",
        "    pl = -10 * np.log10((lemda ** 2) / (((4 * np.pi) ** 2) * (df ** 2)))\n",
        "\n",
        "    # Display results\n",
        "    print(f'Fraunhofer distance, df = {df:.2f} m')\n",
        "    print(f'Path Loss, PL(dB) = {pl:.2f} dB')\n",
        "\n",
        "# Define constants\n",
        "c = 3 * (10 ** 8)  # velocity of light in m/s\n",
        "f = 900 * (10 ** 6)  # frequency in Hz\n",
        "D = 1  # distance in meters\n",
        "\n",
        "# Call the function with the defined parameters\n",
        "calculate_fraunhofer_distance_and_path_loss(c, f, D)\n"
      ],
      "metadata": {
        "colab": {
          "base_uri": "https://localhost:8080/"
        },
        "id": "hJ9q56bminMK",
        "outputId": "23e4570d-b037-41bb-cd14-a2e3ef679b01"
      },
      "execution_count": 7,
      "outputs": [
        {
          "output_type": "stream",
          "name": "stdout",
          "text": [
            "Fraunhofer distance, df = 6.00 m\n",
            "Path Loss, PL(dB) = 47.09 dB\n"
          ]
        }
      ]
    },
    {
      "cell_type": "code",
      "source": [
        "\n",
        "# problem 06:\n",
        "\n",
        "def calculate_received_frequency(carrier_frequency, wavelength, vehicle_speed):\n",
        "    \"\"\"\n",
        "    Calculate and display the received frequency when a vehicle is:\n",
        "    (A) Moving directly toward the transmitter\n",
        "    (B) Moving directly away from the transmitter\n",
        "    (C) Moving perpendicular to the angle of arrival of the transmitted signal\n",
        "    \"\"\"\n",
        "\n",
        "    print('(A)')\n",
        "    print('The vehicle is moving directly toward the transmitter:')\n",
        "    received_frequency_A = (carrier_frequency + (vehicle_speed / wavelength)) / 1e6\n",
        "    print(f'The received frequency is: {received_frequency_A:.2f} MHz\\n')\n",
        "\n",
        "    print('(B)')\n",
        "    print('The vehicle is moving directly away from the transmitter:')\n",
        "    received_frequency_B = (carrier_frequency - (vehicle_speed / wavelength)) / 1e6\n",
        "    print(f'The received frequency is: {received_frequency_B:.2f} MHz\\n')\n",
        "\n",
        "    print('(C)')\n",
        "    print('The vehicle is moving perpendicular to the angle of arrival of the transmitted signal:')\n",
        "    print('The received signal frequency is the same as the transmitted frequency: 900 MHz\\n')\n",
        "\n",
        "# Define constants\n",
        "carrier_frequency = 900 * 10**6  # in Hz\n",
        "wavelength = (3 * 10**8) / carrier_frequency  # in meters\n",
        "vehicle_speed = 70 * (1000 / (60 * 60))  # in meters per second\n",
        "\n",
        "# Call the function with the defined parameters\n",
        "calculate_received_frequency(carrier_frequency, wavelength, vehicle_speed)\n"
      ],
      "metadata": {
        "colab": {
          "base_uri": "https://localhost:8080/"
        },
        "id": "IzHp6Srpm69B",
        "outputId": "e408fb17-83a0-43d3-b0a5-8099103aa390"
      },
      "execution_count": 8,
      "outputs": [
        {
          "output_type": "stream",
          "name": "stdout",
          "text": [
            "(A)\n",
            "The vehicle is moving directly toward the transmitter:\n",
            "The received frequency is: 900.00 MHz\n",
            "\n",
            "(B)\n",
            "The vehicle is moving directly away from the transmitter:\n",
            "The received frequency is: 900.00 MHz\n",
            "\n",
            "(C)\n",
            "The vehicle is moving perpendicular to the angle of arrival of the transmitted signal:\n",
            "The received signal frequency is the same as the transmitted frequency: 900 MHz\n",
            "\n"
          ]
        }
      ]
    },
    {
      "cell_type": "code",
      "source": [
        "\n",
        "# problem 7 :\n",
        "def calculate_bandwidth_and_delays():\n",
        "    \"\"\"\n",
        "    Calculate and display the results for different scenarios:\n",
        "    (a) Calculate delT\n",
        "    (b) Maximum bandwidth for SMRCIM model\n",
        "    (c) Maximum RF bandwidth for the indoor channel model\n",
        "    \"\"\"\n",
        "\n",
        "    print('(a)')\n",
        "    Tn = 150  # in microseconds\n",
        "    N = 70\n",
        "    delT = Tn / N\n",
        "    print(f'delT = {delT:.2f} microseconds\\n')\n",
        "\n",
        "    print('(b)')\n",
        "    Tn = 4  # in microseconds\n",
        "    MBW = 2 / delT  # Maximum bandwidth in MHz\n",
        "    print(f'The maximum bandwidth that the SMRCIM model can accurately represent = {MBW:.2f} MHz')\n",
        "\n",
        "    delT = (Tn / N) * 1000  # delT in nanoseconds\n",
        "    RFBW = (2 / delT) * 1000  # Maximum RF bandwidth in MHz\n",
        "    print(f'delT for SMRCIM urban microcell model is {delT:.2f} ns')\n",
        "    print(f'The maximum RF bandwidth that can be represented is {RFBW:.2f} MHz\\n')\n",
        "\n",
        "    print('(c)')\n",
        "    Exdel = 500  # Excess delay in nanoseconds\n",
        "    delT = Exdel / N  # delT in nanoseconds\n",
        "    print(f'For indoor channel, delT = {delT:.2f} ns')\n",
        "\n",
        "    RFBW = (2 / delT) * 1000  # Maximum RF bandwidth in MHz\n",
        "    print(f'The maximum RF bandwidth for the indoor channel model is {RFBW:.2f} MHz')\n",
        "\n",
        "# Call the function to perform the calculations\n",
        "calculate_bandwidth_and_delays()\n"
      ],
      "metadata": {
        "colab": {
          "base_uri": "https://localhost:8080/"
        },
        "id": "36HLY7_ot2f7",
        "outputId": "7298f132-a0c8-4b1d-c180-001756f99560"
      },
      "execution_count": 9,
      "outputs": [
        {
          "output_type": "stream",
          "name": "stdout",
          "text": [
            "(a)\n",
            "delT = 2.14 microseconds\n",
            "\n",
            "(b)\n",
            "The maximum bandwidth that the SMRCIM model can accurately represent = 0.93 MHz\n",
            "delT for SMRCIM urban microcell model is 57.14 ns\n",
            "The maximum RF bandwidth that can be represented is 35.00 MHz\n",
            "\n",
            "(c)\n",
            "For indoor channel, delT = 7.14 ns\n",
            "The maximum RF bandwidth for the indoor channel model is 280.00 MHz\n"
          ]
        }
      ]
    },
    {
      "cell_type": "code",
      "source": [
        "# problem 08:\n",
        "\n",
        "\n",
        "def calculate_am_signal_power(Am_signal_power, modulation_depth):\n",
        "    \"\"\"\n",
        "    Calculate and display the carrier power, total power in the carrier,\n",
        "    power in each sideband, and percentage power saving.\n",
        "    \"\"\"\n",
        "    # Calculate carrier power (Pc)\n",
        "    carrier_power_pc = Am_signal_power / (1 + (modulation_depth ** 2) / 2)\n",
        "    print(f'Carrier power Pc: {carrier_power_pc:.2f} KW')\n",
        "\n",
        "    print('(a)')\n",
        "    # Calculate total power in the carrier as a percentage\n",
        "    total_power = (carrier_power_pc / Am_signal_power) * 100\n",
        "    print(f'Total power in the carrier is: {total_power:.2f}%')\n",
        "\n",
        "    print('(b)')\n",
        "    # Calculate power in each sideband\n",
        "    power_in_each_sideband = (Am_signal_power - carrier_power_pc) * 0.5\n",
        "    print(f'Power in each sideband: {power_in_each_sideband:.2f} KW')\n",
        "\n",
        "    print('(c)')\n",
        "    # Calculate percentage power saving\n",
        "    percentage_power = (1 - (power_in_each_sideband / Am_signal_power)) * 100\n",
        "    print(f'Percentage power saving: {percentage_power:.2f}%')\n",
        "\n",
        "# Define constants\n",
        "Am_signal_power = 400  # in KW\n",
        "modulation_depth = 0.75\n",
        "\n",
        "# Call the function to perform the calculations\n",
        "calculate_am_signal_power(Am_signal_power, modulation_depth)\n"
      ],
      "metadata": {
        "colab": {
          "base_uri": "https://localhost:8080/"
        },
        "id": "BuTiFqd6xGNk",
        "outputId": "959efacf-57cb-4808-f8ac-a4c1847e2119"
      },
      "execution_count": 11,
      "outputs": [
        {
          "output_type": "stream",
          "name": "stdout",
          "text": [
            "Carrier power Pc: 312.20 KW\n",
            "(a)\n",
            "Total power in the carrier is: 78.05%\n",
            "(b)\n",
            "Power in each sideband: 43.90 KW\n",
            "(c)\n",
            "Percentage power saving: 89.02%\n"
          ]
        }
      ]
    },
    {
      "cell_type": "code",
      "source": [
        "#  problem 09 :\n",
        "\n",
        "\n",
        "def calculate_modulation_parameters(Fm, mt_max_value, womeca):\n",
        "    \"\"\"\n",
        "    Calculate and display peak deviation, frequency modulation index,\n",
        "    and phase modulation index based on given parameters.\n",
        "    \"\"\"\n",
        "    print('(A)')\n",
        "    # Calculate peak deviation\n",
        "    peak_deviation_delta_f = mt_max_value * womeca\n",
        "    print(f'Peak deviation delta_f: {peak_deviation_delta_f:.2f} kHz')\n",
        "\n",
        "    print('(B)')\n",
        "    # Calculate frequency modulation index\n",
        "    fre_modu_index_Bf = peak_deviation_delta_f / Fm\n",
        "    print(f'Frequency modulation index Bf: {fre_modu_index_Bf:.2f}')\n",
        "\n",
        "    print('(C)')\n",
        "    # Calculate phase modulation index\n",
        "    phase_modulation_index = womeca * mt_max_value\n",
        "    print(f'Phase modulation index: {phase_modulation_index:.2f} radians')\n",
        "\n",
        "# Define constants\n",
        "Fm = 4  # Frequency in kHz\n",
        "mt_max_value = 8  # Maximum value in V\n",
        "womeca = 10  # in kHz/V\n",
        "\n",
        "# Call the function with the defined parameters\n",
        "calculate_modulation_parameters(Fm, mt_max_value, womeca)\n"
      ],
      "metadata": {
        "colab": {
          "base_uri": "https://localhost:8080/"
        },
        "id": "msUjkTZC3t1l",
        "outputId": "3145fea5-0a00-4b1d-a9f4-eeb0618a804c"
      },
      "execution_count": 13,
      "outputs": [
        {
          "output_type": "stream",
          "name": "stdout",
          "text": [
            "(A)\n",
            "Peak deviation delta_f: 80.00 kHz\n",
            "(B)\n",
            "Frequency modulation index Bf: 20.00\n",
            "(C)\n",
            "Phase modulation index: 80.00 radians\n"
          ]
        }
      ]
    },
    {
      "cell_type": "code",
      "source": [
        "# problem 10 :\n",
        "\n",
        "def calculate_time_durations(trans_data, each_time_slot_bit, num_of_time_slot):\n",
        "    \"\"\"\n",
        "    Calculate and display time duration of a bit, a slot, and a frame.\n",
        "    \"\"\"\n",
        "    print('(A)')\n",
        "    # Calculate time duration of a bit (Tb)\n",
        "    time_duration_of_a_bit_Tb = 1 / trans_data  # in seconds\n",
        "    print(f'Time duration of a bit Tb: {time_duration_of_a_bit_Tb * 1000:.4f} ms')  # Convert to milliseconds\n",
        "\n",
        "    print('(B)')\n",
        "    # Calculate time duration of a slot (Ts)\n",
        "    time_duration_of_a_slot_Ts = each_time_slot_bit * time_duration_of_a_bit_Tb  # in seconds\n",
        "    print(f'Time duration of a slot Ts: {time_duration_of_a_slot_Ts * 1000:.2f} ms')  # Convert to milliseconds\n",
        "\n",
        "    print('(C)')\n",
        "    # Calculate time duration of a frame (Tf)\n",
        "    time_duration_of_a_frame_Tf = time_duration_of_a_slot_Ts * num_of_time_slot  # in seconds\n",
        "    print(f'Time duration of a frame Tf: {time_duration_of_a_frame_Tf * 1000:.3f} ms')  # Convert to milliseconds\n",
        "\n",
        "    print('(D)')\n",
        "    # Display the fixed message\n",
        "    print('A user has to wait 4.615 ms, the arrival time of a new frame for its next transmission.')\n",
        "\n",
        "# Define constants\n",
        "trans_data = 270.833  # in kbps\n",
        "each_time_slot_bit = 156.25  # in bits\n",
        "num_of_time_slot = 8\n",
        "\n",
        "# Call the function with the defined parameters\n",
        "calculate_time_durations(trans_data, each_time_slot_bit, num_of_time_slot)\n"
      ],
      "metadata": {
        "colab": {
          "base_uri": "https://localhost:8080/"
        },
        "id": "LnxufZFR4Jq_",
        "outputId": "ac0df621-071c-4b90-a4aa-df6f0867e387"
      },
      "execution_count": 14,
      "outputs": [
        {
          "output_type": "stream",
          "name": "stdout",
          "text": [
            "(A)\n",
            "Time duration of a bit Tb: 3.6923 ms\n",
            "(B)\n",
            "Time duration of a slot Ts: 576.92 ms\n",
            "(C)\n",
            "Time duration of a frame Tf: 4615.390 ms\n",
            "(D)\n",
            "A user has to wait 4.615 ms, the arrival time of a new frame for its next transmission.\n"
          ]
        }
      ]
    },
    {
      "cell_type": "code",
      "source": [
        "# problem 11 :\n",
        "\n",
        "\n",
        "\n",
        "def calculate_frame_parameters(trans_freq, num_of_bit_in_each_time_slot):\n",
        "    \"\"\"\n",
        "    Calculate and display the number of overhead bits, bits per frame, frame rate,\n",
        "    time duration of a slot, and frame efficiency based on given parameters.\n",
        "    \"\"\"\n",
        "    # Calculate the number of bits in a time slot\n",
        "    num_of_bit_in_each_time_slot = 6 + 8.25 + 26 + (2 * 58)\n",
        "    print(f'A time slot has: {num_of_bit_in_each_time_slot:.2f} bits')\n",
        "\n",
        "    print('(A)')\n",
        "    # Calculate number of overhead bits\n",
        "    Boh = (8 * 6) + (8 * 8.25) + (8 * 26)\n",
        "    print(f'Number of overhead bits Boh: {Boh:.2f} bits')\n",
        "\n",
        "    print('(B)')\n",
        "    # Calculate number of bits per frame\n",
        "    num_of_bit_per_frame = 8 * num_of_bit_in_each_time_slot\n",
        "    print(f'Number of bits per frame: {num_of_bit_per_frame:.2f} bits/frame')\n",
        "\n",
        "    print('(C)')\n",
        "    # Calculate frame rate in frames per second\n",
        "    frame_rate = (trans_freq * 1000) / num_of_bit_per_frame\n",
        "    print(f'Frame rate: {frame_rate:.2f} frame/sec')\n",
        "\n",
        "    print('(D)')\n",
        "    # Calculate time duration of a slot in microseconds\n",
        "    time_duration_of_a_slot = (num_of_bit_in_each_time_slot / trans_freq) * 1e6\n",
        "    print(f'Time duration of a slot: {time_duration_of_a_slot:.2f} microseconds')\n",
        "\n",
        "    print('(E)')\n",
        "    # Calculate frame efficiency\n",
        "    frame_efficiency = (1 - (Boh / num_of_bit_per_frame)) * 100\n",
        "    print(f'Frame Efficiency: {frame_efficiency:.2f}%')\n",
        "\n",
        "# Define constants\n",
        "trans_freq = 270.833  # in kbps\n",
        "num_of_bit_in_each_time_slot = 6 + 8.25 + 26 + (2 * 58)\n",
        "\n",
        "# Call the function with the defined parameters\n",
        "calculate_frame_parameters(trans_freq, num_of_bit_in_each_time_slot)\n"
      ],
      "metadata": {
        "colab": {
          "base_uri": "https://localhost:8080/"
        },
        "id": "5SDfLX-05ay_",
        "outputId": "ec0a0de4-a99e-49ae-f692-5349557756c0"
      },
      "execution_count": 15,
      "outputs": [
        {
          "output_type": "stream",
          "name": "stdout",
          "text": [
            "A time slot has: 156.25 bits\n",
            "(A)\n",
            "Number of overhead bits Boh: 322.00 bits\n",
            "(B)\n",
            "Number of bits per frame: 1250.00 bits/frame\n",
            "(C)\n",
            "Frame rate: 216.67 frame/sec\n",
            "(D)\n",
            "Time duration of a slot: 576923.79 microseconds\n",
            "(E)\n",
            "Frame Efficiency: 74.24%\n"
          ]
        }
      ]
    },
    {
      "cell_type": "code",
      "source": [],
      "metadata": {
        "id": "wyoYZkat5uyl"
      },
      "execution_count": null,
      "outputs": []
    }
  ]
}