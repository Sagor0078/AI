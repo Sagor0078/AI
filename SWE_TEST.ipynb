{
  "nbformat": 4,
  "nbformat_minor": 0,
  "metadata": {
    "colab": {
      "provenance": [],
      "authorship_tag": "ABX9TyPc4ZxRZiaNO2Lbj8rgtEZo",
      "include_colab_link": true
    },
    "kernelspec": {
      "name": "python3",
      "display_name": "Python 3"
    },
    "language_info": {
      "name": "python"
    }
  },
  "cells": [
    {
      "cell_type": "markdown",
      "metadata": {
        "id": "view-in-github",
        "colab_type": "text"
      },
      "source": [
        "<a href=\"https://colab.research.google.com/github/Sagor0078/AI/blob/main/SWE_TEST.ipynb\" target=\"_parent\"><img src=\"https://colab.research.google.com/assets/colab-badge.svg\" alt=\"Open In Colab\"/></a>"
      ]
    },
    {
      "cell_type": "code",
      "source": [
        "\n",
        "import re\n",
        "\n",
        "def printingStatement(result):\n",
        "    for x in result:\n",
        "        print(x)\n",
        "\n",
        "result=[]\n",
        "while True:\n",
        "    try:\n",
        "        string=input().strip()\n",
        "        if string==\"=\":\n",
        "            printingStatement(result)\n",
        "            result=[]\n",
        "            continue\n",
        "\n",
        "        # Extract the first number (num1)\n",
        "        num1_match = re.search(r\"(\\d+)\", string)\n",
        "        num1 = int(num1_match.group(1)) if num1_match else None\n",
        "\n",
        "        # Extract the operator\n",
        "        operator_match = re.search(r\"([+\\-*/%])\", string)\n",
        "        operator = operator_match.group(1) if operator_match else None\n",
        "\n",
        "        # Extract the second number (num2)\n",
        "        num2_match = re.search(r\"(\\d+)\", string[num1_match.end():])\n",
        "        num2 = int(num2_match.group(1)) if num2_match else None\n",
        "\n",
        "        # Extract the expression\n",
        "        exp=string[-1]\n",
        "\n",
        "        if exp==\";\":\n",
        "            try:\n",
        "                res=eval(f\"{num1} {operator} {num2}\")\n",
        "                result.append(f\"{num1} {operator} {num2} = {res}\")\n",
        "            except Exception as err:\n",
        "                print(\"Error: \",err)\n",
        "        elif exp==\"=\":\n",
        "            res=eval(f\"{num1} {operator} {num2}\")\n",
        "            result.append(f\"{num1} {operator} {num2} = {res}\")\n",
        "            printingStatement(result)\n",
        "            result=[]\n",
        "        else:\n",
        "            continue\n",
        "    except Exception as err:\n",
        "        print(\"Your input should be x+y; x and y are number and ; is the syntax\")\n",
        "        print(\"Error:\",err)"
      ],
      "metadata": {
        "colab": {
          "base_uri": "https://localhost:8080/",
          "height": 408
        },
        "id": "mgvg5Qf_ZEfd",
        "outputId": "5fd39749-4de1-4dd0-b67f-02fb097ba27d"
      },
      "execution_count": 6,
      "outputs": [
        {
          "output_type": "stream",
          "name": "stdout",
          "text": [
            "5 + 8 = \n",
            "5 + 8 = 13\n"
          ]
        },
        {
          "output_type": "error",
          "ename": "KeyboardInterrupt",
          "evalue": "Interrupted by user",
          "traceback": [
            "\u001b[0;31m---------------------------------------------------------------------------\u001b[0m",
            "\u001b[0;31mKeyboardInterrupt\u001b[0m                         Traceback (most recent call last)",
            "\u001b[0;32m<ipython-input-6-45c927aac72c>\u001b[0m in \u001b[0;36m<cell line: 8>\u001b[0;34m()\u001b[0m\n\u001b[1;32m      8\u001b[0m \u001b[0;32mwhile\u001b[0m \u001b[0;32mTrue\u001b[0m\u001b[0;34m:\u001b[0m\u001b[0;34m\u001b[0m\u001b[0;34m\u001b[0m\u001b[0m\n\u001b[1;32m      9\u001b[0m     \u001b[0;32mtry\u001b[0m\u001b[0;34m:\u001b[0m\u001b[0;34m\u001b[0m\u001b[0;34m\u001b[0m\u001b[0m\n\u001b[0;32m---> 10\u001b[0;31m         \u001b[0mstring\u001b[0m\u001b[0;34m=\u001b[0m\u001b[0minput\u001b[0m\u001b[0;34m(\u001b[0m\u001b[0;34m)\u001b[0m\u001b[0;34m.\u001b[0m\u001b[0mstrip\u001b[0m\u001b[0;34m(\u001b[0m\u001b[0;34m)\u001b[0m\u001b[0;34m\u001b[0m\u001b[0;34m\u001b[0m\u001b[0m\n\u001b[0m\u001b[1;32m     11\u001b[0m         \u001b[0;32mif\u001b[0m \u001b[0mstring\u001b[0m\u001b[0;34m==\u001b[0m\u001b[0;34m\"=\"\u001b[0m\u001b[0;34m:\u001b[0m\u001b[0;34m\u001b[0m\u001b[0;34m\u001b[0m\u001b[0m\n\u001b[1;32m     12\u001b[0m             \u001b[0mprintingStatement\u001b[0m\u001b[0;34m(\u001b[0m\u001b[0mresult\u001b[0m\u001b[0;34m)\u001b[0m\u001b[0;34m\u001b[0m\u001b[0;34m\u001b[0m\u001b[0m\n",
            "\u001b[0;32m/usr/local/lib/python3.10/dist-packages/ipykernel/kernelbase.py\u001b[0m in \u001b[0;36mraw_input\u001b[0;34m(self, prompt)\u001b[0m\n\u001b[1;32m    849\u001b[0m                 \u001b[0;34m\"raw_input was called, but this frontend does not support input requests.\"\u001b[0m\u001b[0;34m\u001b[0m\u001b[0;34m\u001b[0m\u001b[0m\n\u001b[1;32m    850\u001b[0m             )\n\u001b[0;32m--> 851\u001b[0;31m         return self._input_request(str(prompt),\n\u001b[0m\u001b[1;32m    852\u001b[0m             \u001b[0mself\u001b[0m\u001b[0;34m.\u001b[0m\u001b[0m_parent_ident\u001b[0m\u001b[0;34m,\u001b[0m\u001b[0;34m\u001b[0m\u001b[0;34m\u001b[0m\u001b[0m\n\u001b[1;32m    853\u001b[0m             \u001b[0mself\u001b[0m\u001b[0;34m.\u001b[0m\u001b[0m_parent_header\u001b[0m\u001b[0;34m,\u001b[0m\u001b[0;34m\u001b[0m\u001b[0;34m\u001b[0m\u001b[0m\n",
            "\u001b[0;32m/usr/local/lib/python3.10/dist-packages/ipykernel/kernelbase.py\u001b[0m in \u001b[0;36m_input_request\u001b[0;34m(self, prompt, ident, parent, password)\u001b[0m\n\u001b[1;32m    893\u001b[0m             \u001b[0;32mexcept\u001b[0m \u001b[0mKeyboardInterrupt\u001b[0m\u001b[0;34m:\u001b[0m\u001b[0;34m\u001b[0m\u001b[0;34m\u001b[0m\u001b[0m\n\u001b[1;32m    894\u001b[0m                 \u001b[0;31m# re-raise KeyboardInterrupt, to truncate traceback\u001b[0m\u001b[0;34m\u001b[0m\u001b[0;34m\u001b[0m\u001b[0m\n\u001b[0;32m--> 895\u001b[0;31m                 \u001b[0;32mraise\u001b[0m \u001b[0mKeyboardInterrupt\u001b[0m\u001b[0;34m(\u001b[0m\u001b[0;34m\"Interrupted by user\"\u001b[0m\u001b[0;34m)\u001b[0m \u001b[0;32mfrom\u001b[0m \u001b[0;32mNone\u001b[0m\u001b[0;34m\u001b[0m\u001b[0;34m\u001b[0m\u001b[0m\n\u001b[0m\u001b[1;32m    896\u001b[0m             \u001b[0;32mexcept\u001b[0m \u001b[0mException\u001b[0m \u001b[0;32mas\u001b[0m \u001b[0me\u001b[0m\u001b[0;34m:\u001b[0m\u001b[0;34m\u001b[0m\u001b[0;34m\u001b[0m\u001b[0m\n\u001b[1;32m    897\u001b[0m                 \u001b[0mself\u001b[0m\u001b[0;34m.\u001b[0m\u001b[0mlog\u001b[0m\u001b[0;34m.\u001b[0m\u001b[0mwarning\u001b[0m\u001b[0;34m(\u001b[0m\u001b[0;34m\"Invalid Message:\"\u001b[0m\u001b[0;34m,\u001b[0m \u001b[0mexc_info\u001b[0m\u001b[0;34m=\u001b[0m\u001b[0;32mTrue\u001b[0m\u001b[0;34m)\u001b[0m\u001b[0;34m\u001b[0m\u001b[0;34m\u001b[0m\u001b[0m\n",
            "\u001b[0;31mKeyboardInterrupt\u001b[0m: Interrupted by user"
          ]
        }
      ]
    },
    {
      "cell_type": "code",
      "source": [
        "def calculation(num1,op,num2):\n",
        "    if op==\"+\":\n",
        "        return num1+num2\n",
        "    elif op==\"-\":\n",
        "        return num1-num2\n",
        "    elif op==\"*\":\n",
        "        return num2*num1\n",
        "    elif op==\"/\":\n",
        "        return num1/num2\n",
        "    elif op==\"%\":\n",
        "        return num1%num2\n",
        "    else:\n",
        "        print(\"Please Enter Valid Operator(+,-,/,*,%)\")\n",
        "\n",
        "\n",
        "n=int(input(\"Please Enter n: \"))\n",
        "elements=input(f\"Please Enter {n*2} Elements space by space and at last please enter a operator(+,-,*,/,%): \").split(\" \")\n",
        "op=elements[-1]\n",
        "elements=list(map(int,elements[:-1]))\n",
        "for i in range(0,2*n,2):\n",
        "    cal=calculation(elements[i],op,elements[i+1])\n",
        "    print(cal,end=\" \")\n",
        "print()"
      ],
      "metadata": {
        "colab": {
          "base_uri": "https://localhost:8080/"
        },
        "id": "8IIjr2zfXHv3",
        "outputId": "8f6f94db-b228-457e-98cb-e57e08ee1130"
      },
      "execution_count": 5,
      "outputs": [
        {
          "output_type": "stream",
          "name": "stdout",
          "text": [
            "Please Enter n: 2\n",
            "Please Enter 4 Elements space by space and at last please enter a operator(+,-,*,/,%): 1 2 3 4 +\n",
            "3 7 \n"
          ]
        }
      ]
    },
    {
      "cell_type": "code",
      "source": [
        "string = input(\"Please Enter a Number or string: \")\n",
        "revString=string[::-1]\n",
        "if string==revString:\n",
        "    print(\"The Number or String is Palindrome\")\n",
        "else:\n",
        "    print(\"The  Number or String is not Palindrome\")"
      ],
      "metadata": {
        "colab": {
          "base_uri": "https://localhost:8080/"
        },
        "id": "ehoWIIpSZPBT",
        "outputId": "dbe813dc-9b50-423b-abeb-9395bd7fc35b"
      },
      "execution_count": 7,
      "outputs": [
        {
          "output_type": "stream",
          "name": "stdout",
          "text": [
            "Please Enter a Number or string: SamaS\n",
            "The Number or String is Palindrome\n"
          ]
        }
      ]
    },
    {
      "cell_type": "code",
      "source": [
        "n=int(input(\"Please Enter a number: \"))\n",
        "fact=1\n",
        "for i in range(1,n+1):\n",
        "   prev=fact\n",
        "   fact = i*fact\n",
        "   # To verify the factorial\n",
        "   print(f\"In {i} iteration factorial is {prev} X {i} = {fact}\")\n",
        "print(f\"Factorial Of {n} is {fact}\")"
      ],
      "metadata": {
        "colab": {
          "base_uri": "https://localhost:8080/"
        },
        "id": "CWh8ZbFxb4fW",
        "outputId": "8d1b0fd2-62e6-4603-cb25-b7c8c47575f1"
      },
      "execution_count": 8,
      "outputs": [
        {
          "output_type": "stream",
          "name": "stdout",
          "text": [
            "Please Enter a number: 5\n",
            "In 1 iteration factorial is 1 X 1 = 1\n",
            "In 2 iteration factorial is 1 X 2 = 2\n",
            "In 3 iteration factorial is 2 X 3 = 6\n",
            "In 4 iteration factorial is 6 X 4 = 24\n",
            "In 5 iteration factorial is 24 X 5 = 120\n",
            "Factorial Of 5 is 120\n"
          ]
        }
      ]
    },
    {
      "cell_type": "code",
      "source": [
        "def sum(array):\n",
        "    n=len(array)\n",
        "    summation=0\n",
        "    for i in range(n):\n",
        "        summation+=array[i]\n",
        "    return summation\n",
        "\n",
        "\n",
        "def average(array):\n",
        "    n=len(array)\n",
        "    summation=sum(array)\n",
        "    return summation/n\n",
        "\n",
        "\n",
        "n = int(input(\"Enter the size of the array: \"))\n",
        "\n",
        "array_elements = list(map(int, input().split()))\n",
        "print(\"Summation:\",sum(array_elements))\n",
        "print(f\"Average: {average(array_elements):.2f}\")"
      ],
      "metadata": {
        "colab": {
          "base_uri": "https://localhost:8080/"
        },
        "id": "F7VhtfpscNDl",
        "outputId": "588f1c97-6d20-42f0-cbdb-f66282236703"
      },
      "execution_count": 11,
      "outputs": [
        {
          "output_type": "stream",
          "name": "stdout",
          "text": [
            "Enter the size of the array: 4\n",
            "1 2 3 4 \n",
            "Summation: 10\n",
            "Average: 2.50\n"
          ]
        }
      ]
    },
    {
      "cell_type": "code",
      "source": [
        "def simulate_class_not_found():\n",
        "    try:\n",
        "        # Attempt to import a non-existent class\n",
        "        from non_existent_module import NonExistentClass\n",
        "    except ImportError as e:\n",
        "        print(\"ClassNotFoundException: The specified class could not be found.\")\n",
        "        print(f\"Error details: {e}\")\n",
        "\n",
        "def simulate_eof_error():\n",
        "    try:\n",
        "        print(\"Enter some input (press Ctrl+D to simulate EOF):\")\n",
        "        user_input = input()  # This will raise EOFError if no input is provided\n",
        "        print(f\"You entered: {user_input}\")\n",
        "    except EOFError:\n",
        "        print(\"EOFError: End of File reached. No input was provided.\")\n",
        "\n",
        "def main():\n",
        "    print(\"Simulating ClassNotFoundException:\")\n",
        "    simulate_class_not_found()\n",
        "    print(\"\\nSimulating EOFError:\")\n",
        "    simulate_eof_error()\n",
        "\n",
        "if __name__ == \"__main__\":\n",
        "    main()"
      ],
      "metadata": {
        "colab": {
          "base_uri": "https://localhost:8080/"
        },
        "id": "NHFNa1vhcXSk",
        "outputId": "f958997e-9f72-4c13-c04e-480dd1d99bb5"
      },
      "execution_count": 12,
      "outputs": [
        {
          "output_type": "stream",
          "name": "stdout",
          "text": [
            "Simulating ClassNotFoundException:\n",
            "ClassNotFoundException: The specified class could not be found.\n",
            "Error details: No module named 'non_existent_module'\n",
            "\n",
            "Simulating EOFError:\n",
            "Enter some input (press Ctrl+D to simulate EOF):\n",
            "45\n",
            "You entered: 45\n"
          ]
        }
      ]
    },
    {
      "cell_type": "code",
      "source": [
        "class Animal:\n",
        "    def speak(self):\n",
        "        print(\"The animal makes a sound.\")\n",
        "\n",
        "class Dog(Animal):\n",
        "    def speak(self):\n",
        "        print(\"The dog barks.\")\n",
        "\n",
        "class Cat(Animal):\n",
        "    def speak(self):\n",
        "        print(\"The cat meows.\")\n",
        "\n",
        "def get_animal_sound(animal_type):\n",
        "    try:\n",
        "        # Attempt to create an instance of the specified animal type\n",
        "        animal = globals()[animal_type]()\n",
        "        animal.speak()\n",
        "    except KeyError:\n",
        "        print(f\"ClassNotFoundException: The class '{animal_type}' does not exist.\")\n",
        "    except AttributeError:\n",
        "        print(f\"ClassNotFoundException: The class '{animal_type}' does not have a 'speak' method.\")\n",
        "\n",
        "def main():\n",
        "    print(\"Enter the animal type (Dog, Cat, or Pig) or 'exit' to quit:\")\n",
        "    while True:\n",
        "        try:\n",
        "            animal_type = input(\"Animal type: \")\n",
        "            if animal_type.lower() == \"exit\":\n",
        "                break\n",
        "            get_animal_sound(animal_type)\n",
        "        except EOFError:\n",
        "            print(\"\\nEOFError: End of File reached. Exiting the program.\")\n",
        "            break\n",
        "\n",
        "if __name__ == \"__main__\":\n",
        "    main()\n",
        "\n",
        "\n",
        "# Entering \"Dog\" or \"Cat\" creates an instance of the corresponding class and calls the speak() method.\n",
        "# Entering \"Pig\" raises a ClassNotFoundException because the \"Pig\" class does not exist.\n",
        "# Entering \"exit\" breaks the loop and exits the program.\n",
        "# If you press Ctrl+D (or Ctrl+Z on Windows) without entering any input, it will raise an EOFError and exit the program."
      ],
      "metadata": {
        "colab": {
          "base_uri": "https://localhost:8080/"
        },
        "id": "0n8jUFPBdx_O",
        "outputId": "373f5f13-54a9-462e-f9f7-e99abfc367a4"
      },
      "execution_count": 13,
      "outputs": [
        {
          "output_type": "stream",
          "name": "stdout",
          "text": [
            "Enter the animal type (Dog, Cat, or Pig) or 'exit' to quit:\n",
            "Animal type: dog\n",
            "ClassNotFoundException: The class 'dog' does not exist.\n",
            "Animal type: Cat\n",
            "The cat meows.\n",
            "Animal type: \u0004\n",
            "\n",
            "EOFError: End of File reached. Exiting the program.\n"
          ]
        }
      ]
    },
    {
      "cell_type": "code",
      "source": [
        "def calculation(num1,op,num2):\n",
        "    if op==\"+\":\n",
        "        return num1+num2\n",
        "    elif op==\"-\":\n",
        "        return num1-num2\n",
        "    elif op==\"*\":\n",
        "        return num2*num1\n",
        "    elif op==\"/\":\n",
        "        return num1/num2\n",
        "    else:\n",
        "        print(\"Please Enter Valid Operator(+,-,/,*)\")\n",
        "\n",
        "\n",
        "with open('input.txt', 'r') as file:\n",
        "    input_data = file.read()\n",
        "\n",
        "\n",
        "elements=list(map(int, input_data.replace(',', ' ').split()))\n",
        "n=len(elements)\n",
        "\n",
        "\n",
        "for i in range(0,n,2):\n",
        "    add=calculation(elements[i],\"+\",elements[i+1])\n",
        "    sub=calculation(elements[i],\"-\",elements[i+1])\n",
        "    mul=calculation(elements[i],\"*\",elements[i+1])\n",
        "    div=calculation(elements[i],\"/\",elements[i+1])\n",
        "    result=[add,sub,mul,div]\n",
        "    with open('output.txt', 'a') as file:\n",
        "        file.write(f\"Case: {i//2+1}: \"+' '.join(map(str, result))+\"\\n\")\n",
        "print(\"Successfully Created File with Required Calculations\")\n",
        "print()"
      ],
      "metadata": {
        "colab": {
          "base_uri": "https://localhost:8080/"
        },
        "id": "0j5q_lfVeXQa",
        "outputId": "0120c5db-95c0-4427-f368-807b6fad5b60"
      },
      "execution_count": 16,
      "outputs": [
        {
          "output_type": "stream",
          "name": "stdout",
          "text": [
            "Successfully Created File with Required Calculations\n",
            "\n"
          ]
        }
      ]
    },
    {
      "cell_type": "code",
      "source": [],
      "metadata": {
        "id": "Lk1wkBBvfJZD"
      },
      "execution_count": null,
      "outputs": []
    }
  ]
}